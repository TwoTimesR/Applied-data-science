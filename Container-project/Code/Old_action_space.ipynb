{
 "cells": [
  {
   "cell_type": "code",
   "execution_count": null,
   "id": "185bd154",
   "metadata": {},
   "outputs": [],
   "source": [
    "# map every vessel-location movement combination to an integer\n",
    "vessel_ids = [vessel.vessel_id for vessel in self.dock.vessels]\n",
    "location_ids = [location.location_id for location in self.block.locations]\n",
    "combinations = [{'vessel_id': v_id, 'location_id': l_id} for v_id in vessel_ids for l_id in location_ids]\n",
    "self.action_dict = {key: val for key, val in enumerate(combinations)}\n",
    "\n",
    "# find correct vessel-location pair that belongs to action\n",
    "combination = self.action_dict.get(action)\n",
    "v_id = combination.get('vessel_id')\n",
    "l_id = combination.get('location_id')\n",
    "\n",
    "# find vessel in dock\n",
    "vessel = None\n",
    "for ves in self.dock.vessels:\n",
    "    if ves.vessel_id == v_id:\n",
    "        vessel = ves\n",
    "        \n",
    "# find location in block\n",
    "location = None\n",
    "for loc in self.block.locations:\n",
    "    if loc.location_id == l_id:\n",
    "        location = loc\n",
    "        \n",
    "# check if vessel was found\n",
    "if vessel is None:\n",
    "    pass\n",
    "    #print(f\"vessel with vessel id {v_id} not found\")\n",
    "    \n",
    "# check if location was found\n",
    "if location is None:\n",
    "    pass\n",
    "    #print(f\"location with location id {l_id} not found\")\n",
    "    \n",
    "# check if vessel has no containers in it\n",
    "valid_vessel = True\n",
    "if len(vessel.containers) == 0:\n",
    "    #print(f\"vessel {v_id} has no containers in it\")\n",
    "    reward -= 20\n",
    "    valid_vessel = False\n",
    "    "
   ]
  }
 ],
 "metadata": {
  "kernelspec": {
   "display_name": "Python 3 (ipykernel)",
   "language": "python",
   "name": "python3"
  },
  "language_info": {
   "codemirror_mode": {
    "name": "ipython",
    "version": 3
   },
   "file_extension": ".py",
   "mimetype": "text/x-python",
   "name": "python",
   "nbconvert_exporter": "python",
   "pygments_lexer": "ipython3",
   "version": "3.9.15"
  }
 },
 "nbformat": 4,
 "nbformat_minor": 5
}
