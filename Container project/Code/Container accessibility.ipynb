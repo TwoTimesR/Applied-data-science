{
 "cells": [
  {
   "cell_type": "code",
   "execution_count": null,
   "id": "185bd154",
   "metadata": {},
   "outputs": [],
   "source": [
    "# check if location is accessible\n",
    "bay = location.bay()\n",
    "tier = 1\n",
    "\n",
    "accessible_right = True\n",
    "for row in range(location.row + 1, self.block.rows + 1, +1):\n",
    "    adjecent_location_right = self.block.location_by_coordinate(row, bay, tier)\n",
    "    if adjecent_location_right.container is not None:\n",
    "        accessible_right = False\n",
    "        break\n",
    "        \n",
    "accessible_left = True\n",
    "for row in range(location.row - 1, 0, -1):\n",
    "    adjecent_location_left = self.block.location_by_coordinate(row, bay, tier)\n",
    "    if adjecent_location_left.container is not None:\n",
    "        accessible_left = False\n",
    "        break\n",
    "        \n",
    "location_is_accessible = (accessible_right or accessible_left)\n",
    "if location_is_accessible == False:\n",
    "    reward -= 10"
   ]
  }
 ],
 "metadata": {
  "kernelspec": {
   "display_name": "Python 3 (ipykernel)",
   "language": "python",
   "name": "python3"
  },
  "language_info": {
   "codemirror_mode": {
    "name": "ipython",
    "version": 3
   },
   "file_extension": ".py",
   "mimetype": "text/x-python",
   "name": "python",
   "nbconvert_exporter": "python",
   "pygments_lexer": "ipython3",
   "version": "3.9.15"
  }
 },
 "nbformat": 4,
 "nbformat_minor": 5
}
