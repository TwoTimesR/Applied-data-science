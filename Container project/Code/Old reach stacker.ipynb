{
 "cells": [
  {
   "cell_type": "code",
   "execution_count": null,
   "id": "f0a0e434",
   "metadata": {},
   "outputs": [],
   "source": [
    "# reach stacker which moves containers around\n",
    "class ReachStacker:\n",
    "    id_obj = itertools.count()\n",
    "    \n",
    "    # reach stacker only has an id\n",
    "    def __init__(self):\n",
    "        self.reachstacker_id = 'RS' + str(next(ReachStacker.id_obj) + 1)\n",
    "        \n",
    "    # moves a container from a vessel in a dock to a location in a block\n",
    "    def move_container(self, dock, from_vessel_id, block, to_location_id):\n",
    "        # find index of needed vessel in dock\n",
    "        vessel_ind = None\n",
    "        for ind, vessel_obj in enumerate(dock.vessels):\n",
    "            if vessel_obj.vessel_id == from_vessel_id:\n",
    "                vessel_ind = ind\n",
    "                \n",
    "        # find index of needed location in block\n",
    "        location_ind = None\n",
    "        for ind, location_obj in enumerate(block.locations):\n",
    "            if location_obj.location_id == to_location_id:\n",
    "                location_ind = ind\n",
    "        \n",
    "        # check if vessel has been found\n",
    "        vessel_has_containers = False\n",
    "        if vessel_ind is None:\n",
    "            print(f\"vessel {from_vessel_id} not found\")\n",
    "        else:\n",
    "            # check if vessel still has containers\n",
    "            if len(dock.vessels[vessel_ind].containers) < 0:\n",
    "                print(f\"vessel {from_vessel_id} has no containers in it\")\n",
    "            else:\n",
    "                vessel_has_containers = True\n",
    "                \n",
    "            \n",
    "        # check if location has been found\n",
    "        location_is_available = False\n",
    "        if location_ind is None:\n",
    "            print(f\"location {to_location_id} not found\")\n",
    "        else:\n",
    "            # check if location is available\n",
    "            if block.locations[location_ind].container is not None:\n",
    "                print(f\"location {to_location_id} already has a container in it\")\n",
    "            else:\n",
    "                location_is_available = True\n",
    "        \n",
    "        if vessel_has_containers and location_is_available:\n",
    "            # select container to be moved and remove container from vessel\n",
    "            moving_container = dock.vessels[vessel_ind].containers.pop(-1)\n",
    "            \n",
    "            # allocate container to location in block\n",
    "            block.locations[location_ind].container = moving_container\n",
    "            print(f\"container from vessel {from_vessel_id} has been moved to location {to_location_id}\")\n",
    "            "
   ]
  },
  {
   "cell_type": "code",
   "execution_count": null,
   "id": "020c7b63",
   "metadata": {},
   "outputs": [],
   "source": [
    "# reachstacker which moves containers from vessel in dock to locations in block\n",
    "reachstacker = ReachStacker()\n",
    "reachstacker.move_container(dock, 'V1', block, 'L1')"
   ]
  }
 ],
 "metadata": {
  "kernelspec": {
   "display_name": "Python 3 (ipykernel)",
   "language": "python",
   "name": "python3"
  },
  "language_info": {
   "codemirror_mode": {
    "name": "ipython",
    "version": 3
   },
   "file_extension": ".py",
   "mimetype": "text/x-python",
   "name": "python",
   "nbconvert_exporter": "python",
   "pygments_lexer": "ipython3",
   "version": "3.9.15"
  }
 },
 "nbformat": 4,
 "nbformat_minor": 5
}
